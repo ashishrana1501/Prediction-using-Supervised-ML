{
 "cells": [
  {
   "cell_type": "markdown",
   "id": "4a7a5ebe",
   "metadata": {},
   "source": [
    "# Name - Ashishkumar Rana\n",
    "\n",
    "# Data Science & Business Analytics intern at The Sparks Foundation.\n",
    "\n",
    "# Graduate Rotational Internship Program (Batch - August 2021).\n",
    "\n",
    "\n",
    "# Problem Statement :\n",
    "\n",
    "   - Predict the percentage of an student based on the no. of study hours.\n",
    "   - This is a simple linear regression problem as it involves just 2 variables.\n",
    "   - What will be predicted score if a student studies for 9.25 hrs/ day?.\n",
    "               \n",
    "# Data can be found at - http://bit.ly/w-data \n"
   ]
  },
  {
   "cell_type": "markdown",
   "id": "cbd541d8",
   "metadata": {},
   "source": [
    "# Prediction using Supervised ML"
   ]
  },
  {
   "cell_type": "markdown",
   "id": "bc1bcd03",
   "metadata": {},
   "source": [
    "# Importing required libraries"
   ]
  },
  {
   "cell_type": "code",
   "execution_count": 1,
   "id": "13b9d173",
   "metadata": {},
   "outputs": [],
   "source": [
    "import numpy as np\n",
    "import pandas as pd\n",
    "import matplotlib.pyplot as plt\n",
    "import seaborn as sns\n",
    "from sklearn.linear_model import LinearRegression\n",
    "from sklearn.model_selection import train_test_split\n",
    "from sklearn.metrics import mean_absolute_error"
   ]
  },
  {
   "cell_type": "markdown",
   "id": "dc78abc8",
   "metadata": {},
   "source": [
    "# Importing Data set into Python"
   ]
  },
  {
   "cell_type": "code",
   "execution_count": 2,
   "id": "9abd9f14",
   "metadata": {},
   "outputs": [
    {
     "name": "stdout",
     "output_type": "stream",
     "text": [
      "   Hours  Scores\n",
      "0    2.5      21\n",
      "1    5.1      47\n",
      "2    3.2      27\n",
      "3    8.5      75\n",
      "4    3.5      30\n",
      "5    1.5      20\n",
      "6    9.2      88\n",
      "7    5.5      60\n",
      "8    8.3      81\n",
      "9    2.7      25\n"
     ]
    }
   ],
   "source": [
    "Url = \"http://bit.ly/w-data\"\n",
    "data = pd.read_csv(Url)\n",
    "print(data.head(10))"
   ]
  },
  {
   "cell_type": "markdown",
   "id": "99b2cb4b",
   "metadata": {},
   "source": [
    "# Data preprocessing"
   ]
  },
  {
   "cell_type": "code",
   "execution_count": 3,
   "id": "078cf41b",
   "metadata": {},
   "outputs": [
    {
     "data": {
      "text/html": [
       "<div>\n",
       "<style scoped>\n",
       "    .dataframe tbody tr th:only-of-type {\n",
       "        vertical-align: middle;\n",
       "    }\n",
       "\n",
       "    .dataframe tbody tr th {\n",
       "        vertical-align: top;\n",
       "    }\n",
       "\n",
       "    .dataframe thead th {\n",
       "        text-align: right;\n",
       "    }\n",
       "</style>\n",
       "<table border=\"1\" class=\"dataframe\">\n",
       "  <thead>\n",
       "    <tr style=\"text-align: right;\">\n",
       "      <th></th>\n",
       "      <th>Hours</th>\n",
       "      <th>Scores</th>\n",
       "    </tr>\n",
       "  </thead>\n",
       "  <tbody>\n",
       "    <tr>\n",
       "      <th>0</th>\n",
       "      <td>2.5</td>\n",
       "      <td>21</td>\n",
       "    </tr>\n",
       "    <tr>\n",
       "      <th>1</th>\n",
       "      <td>5.1</td>\n",
       "      <td>47</td>\n",
       "    </tr>\n",
       "    <tr>\n",
       "      <th>2</th>\n",
       "      <td>3.2</td>\n",
       "      <td>27</td>\n",
       "    </tr>\n",
       "    <tr>\n",
       "      <th>3</th>\n",
       "      <td>8.5</td>\n",
       "      <td>75</td>\n",
       "    </tr>\n",
       "    <tr>\n",
       "      <th>4</th>\n",
       "      <td>3.5</td>\n",
       "      <td>30</td>\n",
       "    </tr>\n",
       "  </tbody>\n",
       "</table>\n",
       "</div>"
      ],
      "text/plain": [
       "   Hours  Scores\n",
       "0    2.5      21\n",
       "1    5.1      47\n",
       "2    3.2      27\n",
       "3    8.5      75\n",
       "4    3.5      30"
      ]
     },
     "execution_count": 3,
     "metadata": {},
     "output_type": "execute_result"
    }
   ],
   "source": [
    "data.head()"
   ]
  },
  {
   "cell_type": "code",
   "execution_count": 4,
   "id": "18a6905b",
   "metadata": {},
   "outputs": [
    {
     "data": {
      "text/html": [
       "<div>\n",
       "<style scoped>\n",
       "    .dataframe tbody tr th:only-of-type {\n",
       "        vertical-align: middle;\n",
       "    }\n",
       "\n",
       "    .dataframe tbody tr th {\n",
       "        vertical-align: top;\n",
       "    }\n",
       "\n",
       "    .dataframe thead th {\n",
       "        text-align: right;\n",
       "    }\n",
       "</style>\n",
       "<table border=\"1\" class=\"dataframe\">\n",
       "  <thead>\n",
       "    <tr style=\"text-align: right;\">\n",
       "      <th></th>\n",
       "      <th>Hours</th>\n",
       "      <th>Scores</th>\n",
       "    </tr>\n",
       "  </thead>\n",
       "  <tbody>\n",
       "    <tr>\n",
       "      <th>20</th>\n",
       "      <td>2.7</td>\n",
       "      <td>30</td>\n",
       "    </tr>\n",
       "    <tr>\n",
       "      <th>21</th>\n",
       "      <td>4.8</td>\n",
       "      <td>54</td>\n",
       "    </tr>\n",
       "    <tr>\n",
       "      <th>22</th>\n",
       "      <td>3.8</td>\n",
       "      <td>35</td>\n",
       "    </tr>\n",
       "    <tr>\n",
       "      <th>23</th>\n",
       "      <td>6.9</td>\n",
       "      <td>76</td>\n",
       "    </tr>\n",
       "    <tr>\n",
       "      <th>24</th>\n",
       "      <td>7.8</td>\n",
       "      <td>86</td>\n",
       "    </tr>\n",
       "  </tbody>\n",
       "</table>\n",
       "</div>"
      ],
      "text/plain": [
       "    Hours  Scores\n",
       "20    2.7      30\n",
       "21    4.8      54\n",
       "22    3.8      35\n",
       "23    6.9      76\n",
       "24    7.8      86"
      ]
     },
     "execution_count": 4,
     "metadata": {},
     "output_type": "execute_result"
    }
   ],
   "source": [
    "data.tail()"
   ]
  },
  {
   "cell_type": "code",
   "execution_count": 5,
   "id": "72061791",
   "metadata": {},
   "outputs": [
    {
     "data": {
      "text/plain": [
       "(25, 2)"
      ]
     },
     "execution_count": 5,
     "metadata": {},
     "output_type": "execute_result"
    }
   ],
   "source": [
    "data.shape"
   ]
  },
  {
   "cell_type": "code",
   "execution_count": 6,
   "id": "8ac14b9e",
   "metadata": {},
   "outputs": [
    {
     "data": {
      "text/plain": [
       "Hours     float64\n",
       "Scores      int64\n",
       "dtype: object"
      ]
     },
     "execution_count": 6,
     "metadata": {},
     "output_type": "execute_result"
    }
   ],
   "source": [
    "data.dtypes"
   ]
  },
  {
   "cell_type": "markdown",
   "id": "e2cbf7ae",
   "metadata": {},
   "source": [
    "# To Find Data type and missing values in data"
   ]
  },
  {
   "cell_type": "code",
   "execution_count": 7,
   "id": "a2ea4a69",
   "metadata": {},
   "outputs": [
    {
     "name": "stdout",
     "output_type": "stream",
     "text": [
      "<class 'pandas.core.frame.DataFrame'>\n",
      "RangeIndex: 25 entries, 0 to 24\n",
      "Data columns (total 2 columns):\n",
      " #   Column  Non-Null Count  Dtype  \n",
      "---  ------  --------------  -----  \n",
      " 0   Hours   25 non-null     float64\n",
      " 1   Scores  25 non-null     int64  \n",
      "dtypes: float64(1), int64(1)\n",
      "memory usage: 528.0 bytes\n"
     ]
    }
   ],
   "source": [
    "data.info() "
   ]
  },
  {
   "cell_type": "markdown",
   "id": "edf9ce58",
   "metadata": {},
   "source": [
    "- 1} Here as you can see, There are no missing values present in the data set.\n",
    "- 2} Independent variable are of float data type where as dependent variable are of integer data type."
   ]
  },
  {
   "cell_type": "markdown",
   "id": "c3c4d3eb",
   "metadata": {},
   "source": [
    "# Descriptive statistics"
   ]
  },
  {
   "cell_type": "code",
   "execution_count": 34,
   "id": "138510fb",
   "metadata": {},
   "outputs": [
    {
     "data": {
      "text/html": [
       "<div>\n",
       "<style scoped>\n",
       "    .dataframe tbody tr th:only-of-type {\n",
       "        vertical-align: middle;\n",
       "    }\n",
       "\n",
       "    .dataframe tbody tr th {\n",
       "        vertical-align: top;\n",
       "    }\n",
       "\n",
       "    .dataframe thead th {\n",
       "        text-align: right;\n",
       "    }\n",
       "</style>\n",
       "<table border=\"1\" class=\"dataframe\">\n",
       "  <thead>\n",
       "    <tr style=\"text-align: right;\">\n",
       "      <th></th>\n",
       "      <th>Hours</th>\n",
       "      <th>Scores</th>\n",
       "    </tr>\n",
       "  </thead>\n",
       "  <tbody>\n",
       "    <tr>\n",
       "      <th>count</th>\n",
       "      <td>25.000000</td>\n",
       "      <td>25.000000</td>\n",
       "    </tr>\n",
       "    <tr>\n",
       "      <th>mean</th>\n",
       "      <td>5.012000</td>\n",
       "      <td>51.480000</td>\n",
       "    </tr>\n",
       "    <tr>\n",
       "      <th>std</th>\n",
       "      <td>2.525094</td>\n",
       "      <td>25.286887</td>\n",
       "    </tr>\n",
       "    <tr>\n",
       "      <th>min</th>\n",
       "      <td>1.100000</td>\n",
       "      <td>17.000000</td>\n",
       "    </tr>\n",
       "    <tr>\n",
       "      <th>25%</th>\n",
       "      <td>2.700000</td>\n",
       "      <td>30.000000</td>\n",
       "    </tr>\n",
       "    <tr>\n",
       "      <th>50%</th>\n",
       "      <td>4.800000</td>\n",
       "      <td>47.000000</td>\n",
       "    </tr>\n",
       "    <tr>\n",
       "      <th>75%</th>\n",
       "      <td>7.400000</td>\n",
       "      <td>75.000000</td>\n",
       "    </tr>\n",
       "    <tr>\n",
       "      <th>max</th>\n",
       "      <td>9.200000</td>\n",
       "      <td>95.000000</td>\n",
       "    </tr>\n",
       "  </tbody>\n",
       "</table>\n",
       "</div>"
      ],
      "text/plain": [
       "           Hours     Scores\n",
       "count  25.000000  25.000000\n",
       "mean    5.012000  51.480000\n",
       "std     2.525094  25.286887\n",
       "min     1.100000  17.000000\n",
       "25%     2.700000  30.000000\n",
       "50%     4.800000  47.000000\n",
       "75%     7.400000  75.000000\n",
       "max     9.200000  95.000000"
      ]
     },
     "execution_count": 34,
     "metadata": {},
     "output_type": "execute_result"
    }
   ],
   "source": [
    "data.describe()"
   ]
  },
  {
   "cell_type": "markdown",
   "id": "64f06dbf",
   "metadata": {},
   "source": [
    "- describe() function tell us five number summary that is min, max, quartile, mean, count."
   ]
  },
  {
   "cell_type": "markdown",
   "id": "d52c16e7",
   "metadata": {},
   "source": [
    "# Finding Missing values in data set if any"
   ]
  },
  {
   "cell_type": "code",
   "execution_count": 35,
   "id": "febdef47",
   "metadata": {},
   "outputs": [
    {
     "data": {
      "text/plain": [
       "Hours     0\n",
       "Scores    0\n",
       "dtype: int64"
      ]
     },
     "execution_count": 35,
     "metadata": {},
     "output_type": "execute_result"
    }
   ],
   "source": [
    "data.isnull().sum()"
   ]
  },
  {
   "cell_type": "markdown",
   "id": "d70c9d81",
   "metadata": {},
   "source": [
    "- Here we can see that, there are no missing values present in data"
   ]
  },
  {
   "cell_type": "markdown",
   "id": "7ad24eb8",
   "metadata": {},
   "source": [
    "# Correlation"
   ]
  },
  {
   "cell_type": "code",
   "execution_count": 36,
   "id": "06f56194",
   "metadata": {},
   "outputs": [
    {
     "data": {
      "text/html": [
       "<div>\n",
       "<style scoped>\n",
       "    .dataframe tbody tr th:only-of-type {\n",
       "        vertical-align: middle;\n",
       "    }\n",
       "\n",
       "    .dataframe tbody tr th {\n",
       "        vertical-align: top;\n",
       "    }\n",
       "\n",
       "    .dataframe thead th {\n",
       "        text-align: right;\n",
       "    }\n",
       "</style>\n",
       "<table border=\"1\" class=\"dataframe\">\n",
       "  <thead>\n",
       "    <tr style=\"text-align: right;\">\n",
       "      <th></th>\n",
       "      <th>Hours</th>\n",
       "      <th>Scores</th>\n",
       "    </tr>\n",
       "  </thead>\n",
       "  <tbody>\n",
       "    <tr>\n",
       "      <th>Hours</th>\n",
       "      <td>1.000000</td>\n",
       "      <td>0.976191</td>\n",
       "    </tr>\n",
       "    <tr>\n",
       "      <th>Scores</th>\n",
       "      <td>0.976191</td>\n",
       "      <td>1.000000</td>\n",
       "    </tr>\n",
       "  </tbody>\n",
       "</table>\n",
       "</div>"
      ],
      "text/plain": [
       "           Hours    Scores\n",
       "Hours   1.000000  0.976191\n",
       "Scores  0.976191  1.000000"
      ]
     },
     "execution_count": 36,
     "metadata": {},
     "output_type": "execute_result"
    }
   ],
   "source": [
    "data.corr() # Correlation tells us the relationship between variables present in data."
   ]
  },
  {
   "cell_type": "markdown",
   "id": "60a7e520",
   "metadata": {},
   "source": [
    "- Based on the output, we observed that there is high correlation between Study hours and marks scored by the student."
   ]
  },
  {
   "cell_type": "markdown",
   "id": "ae999959",
   "metadata": {},
   "source": [
    "# Data Visualization"
   ]
  },
  {
   "cell_type": "markdown",
   "id": "36586f4b",
   "metadata": {},
   "source": [
    "### Scatter plot to see the distribution of data "
   ]
  },
  {
   "cell_type": "code",
   "execution_count": 38,
   "id": "f8351d8b",
   "metadata": {},
   "outputs": [
    {
     "data": {
      "text/plain": [
       "Text(0, 0.5, 'Marks Score')"
      ]
     },
     "execution_count": 38,
     "metadata": {},
     "output_type": "execute_result"
    },
    {
     "data": {
      "image/png": "[encoded data removed]",
      "text/plain": [
       "<Figure size 720x360 with 1 Axes>"
      ]
     },
     "metadata": {
      "needs_background": "light"
     },
     "output_type": "display_data"
    }
   ],
   "source": [
    "plt.figure(figsize=(10,5))\n",
    "sns.regplot(x = \"Hours\", y = \"Scores\", data = data ) \n",
    "plt.title(\"Scatter plot Study hour Vs Marks Scored\", size = 20, color = \"Green\")\n",
    "plt.xlabel(\"Hours studied\", size = 15, color = \"Blue\")\n",
    "plt.ylabel(\"Marks Score\", size = 15, color = \"Blue\")"
   ]
  },
  {
   "cell_type": "markdown",
   "id": "094f4897",
   "metadata": {},
   "source": [
    "- Graph shows that there is positive linear relationship betweeen Study hour and Marks scored by the students. "
   ]
  },
  {
   "cell_type": "markdown",
   "id": "bc502064",
   "metadata": {},
   "source": [
    "# Correlation plot"
   ]
  },
  {
   "cell_type": "code",
   "execution_count": 41,
   "id": "2b2185d3",
   "metadata": {},
   "outputs": [
    {
     "data": {
      "image/png": "[encoded data removed]",
      "text/plain": [
       "<Figure size 360x360 with 2 Axes>"
      ]
     },
     "metadata": {
      "needs_background": "light"
     },
     "output_type": "display_data"
    }
   ],
   "source": [
    "plt.figure(figsize=(5,5))\n",
    "correlation_matrix = data.corr() # Correlation gives us the strength of relationship between variables present in data.\n",
    "sns.heatmap(data=correlation_matrix, annot=True) # annot = True, to print the values inside the square.\n",
    "plt.show()"
   ]
  },
  {
   "cell_type": "markdown",
   "id": "d62a549c",
   "metadata": {},
   "source": [
    "- The above graph shows that there is high correlation between study hours and Marks scored by the students."
   ]
  },
  {
   "cell_type": "markdown",
   "id": "5b97c51c",
   "metadata": {},
   "source": [
    "# Preparing the data"
   ]
  },
  {
   "cell_type": "markdown",
   "id": "5f681e37",
   "metadata": {},
   "source": [
    "#   Dividing the data frame to independent and dependent variable"
   ]
  },
  {
   "cell_type": "code",
   "execution_count": 42,
   "id": "9c123a8c",
   "metadata": {},
   "outputs": [],
   "source": [
    "x = data.iloc[:, :-1].values  \n",
    "y = data.iloc[:, 1].values"
   ]
  },
  {
   "cell_type": "markdown",
   "id": "36bb8007",
   "metadata": {},
   "source": [
    "# Spliting the X,Y into train and test "
   ]
  },
  {
   "cell_type": "code",
   "execution_count": 43,
   "id": "25484fa2",
   "metadata": {},
   "outputs": [],
   "source": [
    "x_train, x_test, y_train, y_test = train_test_split(x, y,\n",
    "                                test_size=0.2, random_state=0) \n"
   ]
  },
  {
   "cell_type": "markdown",
   "id": "8b7afedc",
   "metadata": {},
   "source": [
    "# Training the Algorithm"
   ]
  },
  {
   "cell_type": "code",
   "execution_count": 44,
   "id": "c11afe20",
   "metadata": {},
   "outputs": [
    {
     "name": "stdout",
     "output_type": "stream",
     "text": [
      "Training Successfully Completed\n"
     ]
    }
   ],
   "source": [
    "regressor = LinearRegression()\n",
    "regressor.fit(x_train,y_train)\n",
    "print(\"Training Successfully Completed\")"
   ]
  },
  {
   "cell_type": "code",
   "execution_count": 45,
   "id": "c695f94d",
   "metadata": {},
   "outputs": [
    {
     "data": {
      "text/plain": [
       "0.9515510725211552"
      ]
     },
     "execution_count": 45,
     "metadata": {},
     "output_type": "execute_result"
    }
   ],
   "source": [
    "regressor.score(x_train,y_train)"
   ]
  },
  {
   "cell_type": "markdown",
   "id": "66d7b5bc",
   "metadata": {},
   "source": [
    "# Visualizing training data"
   ]
  },
  {
   "cell_type": "code",
   "execution_count": 46,
   "id": "1316e6e4",
   "metadata": {},
   "outputs": [
    {
     "data": {
      "image/png": "[encoded data removed]",
      "text/plain": [
       "<Figure size 432x288 with 1 Axes>"
      ]
     },
     "metadata": {
      "needs_background": "light"
     },
     "output_type": "display_data"
    },
    {
     "data": {
      "text/plain": [
       "0.9515510725211552"
      ]
     },
     "execution_count": 46,
     "metadata": {},
     "output_type": "execute_result"
    }
   ],
   "source": [
    "plt.scatter(x_train,y_train)\n",
    "plt.title('Training Dataset')\n",
    "plt.plot(x_train,regressor.predict(x_train))\n",
    "plt.xlabel('Hours studied')\n",
    "plt.ylabel('Percentage Score')\n",
    "plt.show()\n",
    "\n",
    "regressor.score(x_train,y_train) "
   ]
  },
  {
   "cell_type": "markdown",
   "id": "a84b2102",
   "metadata": {},
   "source": [
    "# Visualizing testing  data"
   ]
  },
  {
   "cell_type": "code",
   "execution_count": 47,
   "id": "25cc76f1",
   "metadata": {},
   "outputs": [
    {
     "data": {
      "image/png": "[encoded data removed]",
      "text/plain": [
       "<Figure size 432x288 with 1 Axes>"
      ]
     },
     "metadata": {
      "needs_background": "light"
     },
     "output_type": "display_data"
    },
    {
     "data": {
      "text/plain": [
       "0.9454906892105355"
      ]
     },
     "execution_count": 47,
     "metadata": {},
     "output_type": "execute_result"
    }
   ],
   "source": [
    "plt.scatter(x_test,y_test)\n",
    "plt.title('Test Dataset')\n",
    "plt.plot(x_train,regressor.predict(x_train))\n",
    "plt.xlabel('Hours studied')\n",
    "plt.ylabel('Percentage Score')\n",
    "plt.show()\n",
    "regressor.score(x_test,y_test)"
   ]
  },
  {
   "cell_type": "code",
   "execution_count": 48,
   "id": "3f1d92e7",
   "metadata": {},
   "outputs": [
    {
     "name": "stdout",
     "output_type": "stream",
     "text": [
      "Training Score: 0.9515510725211552\n",
      "Test Score: 0.9454906892105355\n"
     ]
    }
   ],
   "source": [
    "print(\"Training Score:\",regressor.score(x_train,y_train))\n",
    "print(\"Test Score:\",regressor.score(x_test,y_test))"
   ]
  },
  {
   "cell_type": "markdown",
   "id": "70c21f35",
   "metadata": {},
   "source": [
    "# Plotting the regression line"
   ]
  },
  {
   "cell_type": "code",
   "execution_count": 49,
   "id": "8f7212b6",
   "metadata": {},
   "outputs": [
    {
     "data": {
      "image/png": "[encoded data removed]",
      "text/plain": [
       "<Figure size 432x288 with 1 Axes>"
      ]
     },
     "metadata": {
      "needs_background": "light"
     },
     "output_type": "display_data"
    }
   ],
   "source": [
    "best_fitline = regressor.coef_*x+regressor.intercept_\n",
    "plt.scatter(x, y)\n",
    "plt.plot(x, best_fitline, color = 'Red');\n",
    "plt.show()"
   ]
  },
  {
   "cell_type": "markdown",
   "id": "6f4c1c57",
   "metadata": {},
   "source": [
    "# Values of Intercept and Coefficient"
   ]
  },
  {
   "cell_type": "code",
   "execution_count": 50,
   "id": "a378e0da",
   "metadata": {},
   "outputs": [
    {
     "name": "stdout",
     "output_type": "stream",
     "text": [
      "Intercept is : 2.0181600414346974\n",
      "Coefficient is : [9.91065648]\n"
     ]
    }
   ],
   "source": [
    "print('Intercept is :',regressor.intercept_)\n",
    "print('Coefficient is :',regressor.coef_)"
   ]
  },
  {
   "cell_type": "markdown",
   "id": "6edb8505",
   "metadata": {},
   "source": [
    "- If a student studies for one more hour than there is an increase of 9.91% in Total score"
   ]
  },
  {
   "cell_type": "markdown",
   "id": "bb7712af",
   "metadata": {},
   "source": [
    "# Making prediction"
   ]
  },
  {
   "cell_type": "code",
   "execution_count": 51,
   "id": "c347e23c",
   "metadata": {},
   "outputs": [
    {
     "name": "stdout",
     "output_type": "stream",
     "text": [
      "[[1.5]\n",
      " [3.2]\n",
      " [7.4]\n",
      " [2.5]\n",
      " [5.9]]\n"
     ]
    },
    {
     "data": {
      "text/plain": [
       "array([16.88414476, 33.73226078, 75.357018  , 26.79480124, 60.49103328])"
      ]
     },
     "execution_count": 51,
     "metadata": {},
     "output_type": "execute_result"
    }
   ],
   "source": [
    "print(x_test) \n",
    "y_predic = regressor.predict(x_test)\n",
    "y_predic"
   ]
  },
  {
   "cell_type": "markdown",
   "id": "9fba4424",
   "metadata": {},
   "source": [
    "# Comparing actual and predicted value\n"
   ]
  },
  {
   "cell_type": "code",
   "execution_count": 52,
   "id": "82d2f033",
   "metadata": {},
   "outputs": [
    {
     "data": {
      "text/html": [
       "<div>\n",
       "<style scoped>\n",
       "    .dataframe tbody tr th:only-of-type {\n",
       "        vertical-align: middle;\n",
       "    }\n",
       "\n",
       "    .dataframe tbody tr th {\n",
       "        vertical-align: top;\n",
       "    }\n",
       "\n",
       "    .dataframe thead th {\n",
       "        text-align: right;\n",
       "    }\n",
       "</style>\n",
       "<table border=\"1\" class=\"dataframe\">\n",
       "  <thead>\n",
       "    <tr style=\"text-align: right;\">\n",
       "      <th></th>\n",
       "      <th>Actual Marks</th>\n",
       "      <th>Predicted Marks</th>\n",
       "    </tr>\n",
       "  </thead>\n",
       "  <tbody>\n",
       "    <tr>\n",
       "      <th>0</th>\n",
       "      <td>20</td>\n",
       "      <td>16.884145</td>\n",
       "    </tr>\n",
       "    <tr>\n",
       "      <th>1</th>\n",
       "      <td>27</td>\n",
       "      <td>33.732261</td>\n",
       "    </tr>\n",
       "    <tr>\n",
       "      <th>2</th>\n",
       "      <td>69</td>\n",
       "      <td>75.357018</td>\n",
       "    </tr>\n",
       "    <tr>\n",
       "      <th>3</th>\n",
       "      <td>30</td>\n",
       "      <td>26.794801</td>\n",
       "    </tr>\n",
       "    <tr>\n",
       "      <th>4</th>\n",
       "      <td>62</td>\n",
       "      <td>60.491033</td>\n",
       "    </tr>\n",
       "  </tbody>\n",
       "</table>\n",
       "</div>"
      ],
      "text/plain": [
       "   Actual Marks  Predicted Marks\n",
       "0            20        16.884145\n",
       "1            27        33.732261\n",
       "2            69        75.357018\n",
       "3            30        26.794801\n",
       "4            62        60.491033"
      ]
     },
     "execution_count": 52,
     "metadata": {},
     "output_type": "execute_result"
    }
   ],
   "source": [
    "df = pd.DataFrame({'Actual Marks': y_test, 'Predicted Marks': y_predic})    \n",
    "df"
   ]
  },
  {
   "cell_type": "markdown",
   "id": "2f19589b",
   "metadata": {},
   "source": [
    "# Visualizing the Actual and Predicted value using barplot"
   ]
  },
  {
   "cell_type": "code",
   "execution_count": 53,
   "id": "f28e0a6c",
   "metadata": {},
   "outputs": [
    {
     "data": {
      "image/png": "[encoded data removed]",
      "text/plain": [
       "<Figure size 1080x1080 with 1 Axes>"
      ]
     },
     "metadata": {
      "needs_background": "light"
     },
     "output_type": "display_data"
    }
   ],
   "source": [
    "df.plot(kind = \"bar\", figsize = (15 , 15) )\n",
    "plt.grid(which='major', color = \"Green\" , linewidth = 2)\n",
    "plt.grid(which='minor',  linewidth = 2 )\n",
    "plt.title('Actual Marks vs Predicted Marks', size=20 ,color=\"Red\")\n",
    "plt.ylabel('Percentage of Marks', size=15,color=\"Blue\")\n",
    "plt.xlabel('Study Hours', size=15 , color = \"Blue\")\n",
    "plt.show()"
   ]
  },
  {
   "cell_type": "markdown",
   "id": "75d7b7df",
   "metadata": {},
   "source": [
    "# Model Evaluation"
   ]
  },
  {
   "cell_type": "code",
   "execution_count": 54,
   "id": "7dc7dbad",
   "metadata": {},
   "outputs": [],
   "source": [
    "# Importing metrics from sklearn \n",
    "from sklearn.metrics import mean_squared_error,r2_score,mean_absolute_error"
   ]
  },
  {
   "cell_type": "code",
   "execution_count": 55,
   "id": "440de13b",
   "metadata": {},
   "outputs": [
    {
     "name": "stdout",
     "output_type": "stream",
     "text": [
      "MAE: 4.183859899002975\n"
     ]
    }
   ],
   "source": [
    "# To find Mean Absolute Error(mse)\n",
    "mse = (mean_absolute_error(y_test, y_predic))\n",
    "print(\"MAE:\",mse)"
   ]
  },
  {
   "cell_type": "code",
   "execution_count": 56,
   "id": "8ef054a7",
   "metadata": {},
   "outputs": [
    {
     "name": "stdout",
     "output_type": "stream",
     "text": [
      "RMSE: 4.647447612100367\n"
     ]
    }
   ],
   "source": [
    "# To find Root Mean Squared Error(rmse)\n",
    "rmse = (np.sqrt(mean_squared_error(y_test, y_predic)))\n",
    "print(\"RMSE:\",rmse)\n"
   ]
  },
  {
   "cell_type": "code",
   "execution_count": 57,
   "id": "ddb347f1",
   "metadata": {},
   "outputs": [
    {
     "name": "stdout",
     "output_type": "stream",
     "text": [
      "R-Square: 0.9454906892105355\n"
     ]
    }
   ],
   "source": [
    "# To find coefficient of determination\n",
    "r2 =  r2_score(y_test, y_predic)\n",
    "print(\"R-Square:\",r2)"
   ]
  },
  {
   "cell_type": "markdown",
   "id": "93bae35f",
   "metadata": {},
   "source": [
    "# Testing with your own data"
   ]
  },
  {
   "cell_type": "code",
   "execution_count": 58,
   "id": "8dff2005",
   "metadata": {},
   "outputs": [
    {
     "name": "stdout",
     "output_type": "stream",
     "text": [
      "No of Hours = 9.25\n",
      "Predicted Score = 93.69\n"
     ]
    }
   ],
   "source": [
    "hours = np.array([9.25]) # No. of hours should be mentioned inside array\n",
    "hours = hours.reshape(-1,1)\n",
    "own_pred = regressor.predict(hours)\n",
    "print(\"No of Hours = {}\".format(float(hours)))\n",
    "print(\"Predicted Score = {}\".format(round(own_pred[0],2)))"
   ]
  },
  {
   "cell_type": "markdown",
   "id": "b0d367f4",
   "metadata": {},
   "source": [
    "# Q. What will be predicted score if a student studies for 9.25 hrs/ day?"
   ]
  },
  {
   "cell_type": "code",
   "execution_count": 61,
   "id": "ea63715e",
   "metadata": {},
   "outputs": [
    {
     "name": "stdout",
     "output_type": "stream",
     "text": [
      "Enter study hours:9.25\n"
     ]
    },
    {
     "data": {
      "text/plain": [
       "array([93.69173249])"
      ]
     },
     "execution_count": 61,
     "metadata": {},
     "output_type": "execute_result"
    }
   ],
   "source": [
    "hours = float(input(\"Enter study hours:\"))\n",
    "hours = [[hours]]\n",
    "regressor.predict(hours)"
   ]
  },
  {
   "cell_type": "markdown",
   "id": "4c2fd564",
   "metadata": {},
   "source": [
    "# Conclusion:\n",
    "   - Here i conclude that if a Student studies for 9.25 hours/day then the predicted score will be 93.69%"
   ]
  },
  {
   "cell_type": "markdown",
   "id": "89656805",
   "metadata": {},
   "source": [
    "# Thank You"
   ]
  }
 ],
 "metadata": {
  "kernelspec": {
   "display_name": "Python 3",
   "language": "python",
   "name": "python3"
  },
  "language_info": {
   "codemirror_mode": {
    "name": "ipython",
    "version": 3
   },
   "file_extension": ".py",
   "mimetype": "text/x-python",
   "name": "python",
   "nbconvert_exporter": "python",
   "pygments_lexer": "ipython3",
   "version": "3.8.10"
  }
 },
 "nbformat": 4,
 "nbformat_minor": 5
}
